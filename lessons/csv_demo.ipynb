{
 "cells": [
  {
   "cell_type": "code",
   "execution_count": null,
   "metadata": {},
   "outputs": [],
   "source": []
  },
  {
   "cell_type": "markdown",
   "metadata": {},
   "source": [
    "# Working with CSV Data\n",
    "\n",
    "comma-spereated value files are commonly used for sharing tables of data between systems.\n",
    "Programs like microsift excel, google sheets, as well as popular data base system can produce CSV files as exports and programs, such as the one we will write today, have liraries for reading and processing data in from CSV files."
   ]
  },
  {
   "cell_type": "code",
   "execution_count": 1,
   "metadata": {},
   "outputs": [
    {
     "name": "stdout",
     "output_type": "stream",
     "text": [
      "Autoreload of imported modules enabled. Be sure to save your modules!\n"
     ]
    }
   ],
   "source": [
    "%reload_ext autoreload\n",
    "%autoreload 2\n",
    "print(\"Autoreload of imported modules enabled. Be sure to save your modules!\")"
   ]
  },
  {
   "cell_type": "markdown",
   "metadata": {},
   "source": [
    "## Imporing Utility Functions\n",
    "\n",
    "Our helper functions will be lovated in 'lessons/data_utils.py' and will import the functions in the code cell below"
   ]
  },
  {
   "cell_type": "code",
   "execution_count": 9,
   "metadata": {},
   "outputs": [
    {
     "data": {
      "text/plain": [
       "[{'date': '10/16', 'low': '56', 'high': '75'},\n",
       " {'date': '10/17', 'low': '57', 'high': '76'},\n",
       " {'date': '10/18', 'low': '62', 'high': '75'}]"
      ]
     },
     "execution_count": 9,
     "metadata": {},
     "output_type": "execute_result"
    }
   ],
   "source": [
    "from data_utils import read_csv_rows\n",
    "\n",
    "data_file: str = \"../data/weather.csv\"\n",
    "data_table: list[dict[str, str]] = read_csv_rows(data_file)\n",
    "data_table\n"
   ]
  },
  {
   "cell_type": "markdown",
   "metadata": {},
   "source": [
    "## selecting the values of a single column with `column_values`"
   ]
  },
  {
   "cell_type": "code",
   "execution_count": null,
   "metadata": {},
   "outputs": [],
   "source": [
    "from data_utils import column_values\n",
    "\n",
    "dates: list[str] = column_values(data_table, \"date\")\n",
    "dates"
   ]
  },
  {
   "cell_type": "markdown",
   "metadata": {},
   "source": [
    "## Convert a row-oriented table to a column-oriented table"
   ]
  },
  {
   "cell_type": "code",
   "execution_count": null,
   "metadata": {},
   "outputs": [],
   "source": [
    "from data_utils import columnar\n",
    "\n",
    "column_table: dict[ str, list[ str]] = columnar(data_table)\n",
    "column_table"
   ]
  }
 ],
 "metadata": {
  "interpreter": {
   "hash": "c894ce4bf8853da0b957fd0aefe8280be579faf9d3628e251d00c19f12b91591"
  },
  "kernelspec": {
   "display_name": "Python 3.10.1 64-bit",
   "language": "python",
   "name": "python3"
  },
  "language_info": {
   "codemirror_mode": {
    "name": "ipython",
    "version": 3
   },
   "file_extension": ".py",
   "mimetype": "text/x-python",
   "name": "python",
   "nbconvert_exporter": "python",
   "pygments_lexer": "ipython3",
   "version": "3.10.1"
  },
  "orig_nbformat": 4
 },
 "nbformat": 4,
 "nbformat_minor": 2
}
