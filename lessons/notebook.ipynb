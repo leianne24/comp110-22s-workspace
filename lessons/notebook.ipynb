{
 "cells": [
  {
   "cell_type": "markdown",
   "metadata": {},
   "source": [
    "# Formatting markdown notes\n",
    "\n",
    "* you can have lists\n",
    "* you can have linkd"
   ]
  },
  {
   "cell_type": "code",
   "execution_count": 2,
   "metadata": {},
   "outputs": [
    {
     "name": "stdout",
     "output_type": "stream",
     "text": [
      "kris\n"
     ]
    }
   ],
   "source": [
    "name: str = \"kris\"\n",
    "print(name)"
   ]
  },
  {
   "cell_type": "code",
   "execution_count": null,
   "metadata": {},
   "outputs": [],
   "source": [
    "print(f\"another reference to {name} made in this cell\")"
   ]
  },
  {
   "cell_type": "markdown",
   "metadata": {},
   "source": [
    "# Demo Jupter Notebook\n",
    "this notebook will exemplify **some** of the commone use cases in python"
   ]
  }
 ],
 "metadata": {
  "interpreter": {
   "hash": "c894ce4bf8853da0b957fd0aefe8280be579faf9d3628e251d00c19f12b91591"
  },
  "kernelspec": {
   "display_name": "Python 3.10.1 64-bit",
   "language": "python",
   "name": "python3"
  },
  "language_info": {
   "codemirror_mode": {
    "name": "ipython",
    "version": 3
   },
   "file_extension": ".py",
   "mimetype": "text/x-python",
   "name": "python",
   "nbconvert_exporter": "python",
   "pygments_lexer": "ipython3",
   "version": "3.10.1"
  },
  "orig_nbformat": 4
 },
 "nbformat": 4,
 "nbformat_minor": 2
}
