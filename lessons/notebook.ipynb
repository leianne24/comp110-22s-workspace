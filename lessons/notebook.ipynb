{
 "cells": [
  {
   "cell_type": "markdown",
   "metadata": {},
   "source": [
    "# Demo Jupter Notebook\n",
    "this notebook will exemplify **some** of the commone use cases in python"
   ]
  },
  {
   "cell_type": "markdown",
   "metadata": {},
   "source": [
    "# Formatting markdown notes\n",
    "\n",
    "* you can have lists\n",
    "* you can have links\n",
    "* running a cell impacts the globals that you've made\n",
    "* restarting a kernel will clear all the evaluations of the code cells: you can run all to to get all of your things back\n",
    "* make sure you run your global variable cells before you try to use the cells\n",
    "* even if you take away the previous declartion/initializaton it will remian in the kernel\n",
    "* you'll still be able to evaluate that term\n",
    "* you have to make sure you save everything afore you export \n",
    "* you don't actually need the `print` statement for the final line, as that will autoprint \n"
   ]
  },
  {
   "cell_type": "markdown",
   "metadata": {},
   "source": [
    "Useful Keyboard Shortcuts\n",
    "1. `Control+Enter` execute a cell and leave the focus/cursor in that cell\n",
    "2. `Shift+Enter` execute a cell and move to the next cell or make a new cell\n",
    "3. Change a cell from code/markdown, the three ellipses in the corner\n",
    "\n"
   ]
  },
  {
   "cell_type": "code",
   "execution_count": 1,
   "metadata": {},
   "outputs": [
    {
     "name": "stdout",
     "output_type": "stream",
     "text": [
      "Hello, Adina\n"
     ]
    }
   ],
   "source": [
    "user: str = \"Adina\"\n",
    "print(f\"Hello, {user}\")"
   ]
  },
  {
   "cell_type": "code",
   "execution_count": 2,
   "metadata": {},
   "outputs": [
    {
     "name": "stdout",
     "output_type": "stream",
     "text": [
      "another reference to Adina made in this cell\n"
     ]
    }
   ],
   "source": [
    "print(f\"another reference to {user} made in this cell\")"
   ]
  },
  {
   "cell_type": "code",
   "execution_count": 6,
   "metadata": {},
   "outputs": [
    {
     "name": "stdout",
     "output_type": "stream",
     "text": [
      "Some important computation...\n"
     ]
    }
   ],
   "source": [
    "print(\"Some important computation...\")\n",
    "total: float = 110.0 + 1000.0\n",
    "total += 134\n"
   ]
  },
  {
   "cell_type": "markdown",
   "metadata": {},
   "source": [
    "Example of Importing a Module       "
   ]
  },
  {
   "cell_type": "code",
   "execution_count": 4,
   "metadata": {},
   "outputs": [
    {
     "data": {
      "text/plain": [
       "21"
      ]
     },
     "execution_count": 4,
     "metadata": {},
     "output_type": "execute_result"
    }
   ],
   "source": [
    "import notebook_helpers\n",
    "notebook_helpers.add_two_ints(1, 20)"
   ]
  },
  {
   "cell_type": "code",
   "execution_count": 5,
   "metadata": {},
   "outputs": [
    {
     "data": {
      "text/plain": [
       "12"
      ]
     },
     "execution_count": 5,
     "metadata": {},
     "output_type": "execute_result"
    }
   ],
   "source": [
    "from notebook_helpers import add_two_ints\n",
    "add_two_ints(3, 9)"
   ]
  }
 ],
 "metadata": {
  "interpreter": {
   "hash": "c894ce4bf8853da0b957fd0aefe8280be579faf9d3628e251d00c19f12b91591"
  },
  "kernelspec": {
   "display_name": "Python 3.10.1 64-bit",
   "language": "python",
   "name": "python3"
  },
  "language_info": {
   "codemirror_mode": {
    "name": "ipython",
    "version": 3
   },
   "file_extension": ".py",
   "mimetype": "text/x-python",
   "name": "python",
   "nbconvert_exporter": "python",
   "pygments_lexer": "ipython3",
   "version": "3.10.1"
  },
  "orig_nbformat": 4
 },
 "nbformat": 4,
 "nbformat_minor": 2
}
